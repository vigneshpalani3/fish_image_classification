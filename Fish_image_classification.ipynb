{
  "nbformat": 4,
  "nbformat_minor": 0,
  "metadata": {
    "colab": {
      "provenance": [],
      "gpuType": "T4"
    },
    "kernelspec": {
      "name": "python3",
      "display_name": "Python 3"
    },
    "language_info": {
      "name": "python"
    },
    "accelerator": "GPU"
  },
  "cells": [
    {
      "cell_type": "code",
      "source": [
        "from google.colab import files"
      ],
      "metadata": {
        "id": "D2t5JpsDMwbH"
      },
      "execution_count": 1,
      "outputs": []
    },
    {
      "cell_type": "code",
      "execution_count": 2,
      "metadata": {
        "id": "ehCZ9gAb14bp"
      },
      "outputs": [],
      "source": [
        "import zipfile\n",
        "zip_path=\"/content/drive/MyDrive/Dataset/Dataset.zip\"\n",
        "extract_path=\"/content/fish_data\""
      ]
    },
    {
      "cell_type": "code",
      "execution_count": 3,
      "metadata": {
        "id": "RGBBM9Tq3IYu"
      },
      "outputs": [],
      "source": [
        "with zipfile.ZipFile(zip_path,'r') as zip_ref:\n",
        "  zip_ref.extractall(extract_path)"
      ]
    },
    {
      "cell_type": "code",
      "execution_count": 4,
      "metadata": {
        "id": "wEuNXQ_T3i3O"
      },
      "outputs": [],
      "source": [
        "from tensorflow.keras.preprocessing.image import ImageDataGenerator"
      ]
    },
    {
      "cell_type": "code",
      "execution_count": 5,
      "metadata": {
        "id": "xIyF5gLg4VkO"
      },
      "outputs": [],
      "source": [
        "train=\"/content/fish_data/images.cv_jzk6llhf18tm3k0kyttxz/data/train\"\n",
        "test=\"/content/fish_data/images.cv_jzk6llhf18tm3k0kyttxz/data/test\"\n",
        "val=\"/content/fish_data/images.cv_jzk6llhf18tm3k0kyttxz/data/val\""
      ]
    },
    {
      "cell_type": "code",
      "execution_count": 6,
      "metadata": {
        "id": "FvC-CplR4uin"
      },
      "outputs": [],
      "source": [
        "train_gen=ImageDataGenerator(rescale=1./255,rotation_range=20,zoom_range=0.2,horizontal_flip=True)\n",
        "val_gen=ImageDataGenerator(rescale=1./255)"
      ]
    },
    {
      "cell_type": "code",
      "execution_count": 7,
      "metadata": {
        "colab": {
          "base_uri": "https://localhost:8080/"
        },
        "id": "GVpgjJjB5doq",
        "outputId": "9084dff4-a3f4-474a-bcbf-2f9da674c3ef"
      },
      "outputs": [
        {
          "output_type": "stream",
          "name": "stdout",
          "text": [
            "Found 6225 images belonging to 11 classes.\n",
            "Found 3187 images belonging to 11 classes.\n",
            "Found 1092 images belonging to 11 classes.\n"
          ]
        }
      ],
      "source": [
        "train_data=train_gen.flow_from_directory(train,target_size=(244,244),class_mode=\"categorical\")\n",
        "test_data=val_gen.flow_from_directory(test,target_size=(244,244),class_mode=\"categorical\")\n",
        "val_data=val_gen.flow_from_directory(val,target_size=(244,244),class_mode=\"categorical\")"
      ]
    },
    {
      "cell_type": "code",
      "source": [
        "class_labels=train_data.class_indices.keys()\n",
        "print(class_labels)"
      ],
      "metadata": {
        "colab": {
          "base_uri": "https://localhost:8080/"
        },
        "id": "iStE3KZ-gwQG",
        "outputId": "bf9cce0b-3b3c-410e-e6d3-230071ab0449"
      },
      "execution_count": 16,
      "outputs": [
        {
          "output_type": "stream",
          "name": "stdout",
          "text": [
            "dict_keys(['animal fish', 'animal fish bass', 'fish sea_food black_sea_sprat', 'fish sea_food gilt_head_bream', 'fish sea_food hourse_mackerel', 'fish sea_food red_mullet', 'fish sea_food red_sea_bream', 'fish sea_food sea_bass', 'fish sea_food shrimp', 'fish sea_food striped_red_mullet', 'fish sea_food trout'])\n"
          ]
        }
      ]
    },
    {
      "cell_type": "code",
      "execution_count": 8,
      "metadata": {
        "id": "xm-B0OjWj8Jw"
      },
      "outputs": [],
      "source": [
        "from tensorflow.keras.models import Sequential\n",
        "from tensorflow.keras.layers import Conv2D,MaxPooling2D,Flatten,Dense,Dropout"
      ]
    },
    {
      "cell_type": "code",
      "execution_count": 9,
      "metadata": {
        "colab": {
          "base_uri": "https://localhost:8080/"
        },
        "id": "3qo_jwa-lpin",
        "outputId": "313332ee-d56e-48a7-9bf6-75c2a1ed01c1"
      },
      "outputs": [
        {
          "output_type": "stream",
          "name": "stderr",
          "text": [
            "/usr/local/lib/python3.11/dist-packages/keras/src/layers/convolutional/base_conv.py:107: UserWarning: Do not pass an `input_shape`/`input_dim` argument to a layer. When using Sequential models, prefer using an `Input(shape)` object as the first layer in the model instead.\n",
            "  super().__init__(activity_regularizer=activity_regularizer, **kwargs)\n"
          ]
        }
      ],
      "source": [
        "model=Sequential([\n",
        "    Conv2D(32,(3,3),activation='relu',input_shape=(244,244,3)),\n",
        "    MaxPooling2D(2,2),\n",
        "    Conv2D(64,(3,3),activation=\"relu\"),\n",
        "    MaxPooling2D(2,2),\n",
        "    Flatten(),\n",
        "    Dense(64,activation=\"relu\"),\n",
        "    Dropout(0.3),\n",
        "    Dense(11,activation=\"softmax\")\n",
        "])"
      ]
    },
    {
      "cell_type": "code",
      "execution_count": 10,
      "metadata": {
        "id": "cYOxxP73m-ti"
      },
      "outputs": [],
      "source": [
        "model.compile(optimizer=\"adam\",loss=\"categorical_crossentropy\",metrics=[\"accuracy\"])"
      ]
    },
    {
      "cell_type": "code",
      "execution_count": 11,
      "metadata": {
        "colab": {
          "base_uri": "https://localhost:8080/"
        },
        "id": "Zz4GS-Hdn2Zv",
        "outputId": "6186f711-a4df-4d91-883d-121bea984a6d"
      },
      "outputs": [
        {
          "metadata": {
            "tags": null
          },
          "name": "stderr",
          "output_type": "stream",
          "text": [
            "/usr/local/lib/python3.11/dist-packages/keras/src/trainers/data_adapters/py_dataset_adapter.py:121: UserWarning: Your `PyDataset` class should call `super().__init__(**kwargs)` in its constructor. `**kwargs` can include `workers`, `use_multiprocessing`, `max_queue_size`. Do not pass these arguments to `fit()`, as they will be ignored.\n",
            "  self._warn_if_super_not_called()\n"
          ]
        },
        {
          "output_type": "stream",
          "name": "stdout",
          "text": [
            "Epoch 1/10\n",
            "\u001b[1m195/195\u001b[0m \u001b[32m━━━━━━━━━━━━━━━━━━━━\u001b[0m\u001b[37m\u001b[0m \u001b[1m107s\u001b[0m 507ms/step - accuracy: 0.3042 - loss: 2.2111 - val_accuracy: 0.6300 - val_loss: 1.1252\n",
            "Epoch 2/10\n",
            "\u001b[1m195/195\u001b[0m \u001b[32m━━━━━━━━━━━━━━━━━━━━\u001b[0m\u001b[37m\u001b[0m \u001b[1m93s\u001b[0m 476ms/step - accuracy: 0.5869 - loss: 1.1843 - val_accuracy: 0.7555 - val_loss: 0.7669\n",
            "Epoch 3/10\n",
            "\u001b[1m195/195\u001b[0m \u001b[32m━━━━━━━━━━━━━━━━━━━━\u001b[0m\u001b[37m\u001b[0m \u001b[1m147s\u001b[0m 504ms/step - accuracy: 0.6961 - loss: 0.8815 - val_accuracy: 0.8800 - val_loss: 0.4554\n",
            "Epoch 4/10\n",
            "\u001b[1m195/195\u001b[0m \u001b[32m━━━━━━━━━━━━━━━━━━━━\u001b[0m\u001b[37m\u001b[0m \u001b[1m92s\u001b[0m 474ms/step - accuracy: 0.7510 - loss: 0.7210 - val_accuracy: 0.8626 - val_loss: 0.4600\n",
            "Epoch 5/10\n",
            "\u001b[1m195/195\u001b[0m \u001b[32m━━━━━━━━━━━━━━━━━━━━\u001b[0m\u001b[37m\u001b[0m \u001b[1m92s\u001b[0m 470ms/step - accuracy: 0.7764 - loss: 0.6203 - val_accuracy: 0.8846 - val_loss: 0.4240\n",
            "Epoch 6/10\n",
            "\u001b[1m195/195\u001b[0m \u001b[32m━━━━━━━━━━━━━━━━━━━━\u001b[0m\u001b[37m\u001b[0m \u001b[1m92s\u001b[0m 474ms/step - accuracy: 0.7827 - loss: 0.6408 - val_accuracy: 0.8956 - val_loss: 0.3363\n",
            "Epoch 7/10\n",
            "\u001b[1m195/195\u001b[0m \u001b[32m━━━━━━━━━━━━━━━━━━━━\u001b[0m\u001b[37m\u001b[0m \u001b[1m94s\u001b[0m 481ms/step - accuracy: 0.8242 - loss: 0.5137 - val_accuracy: 0.9432 - val_loss: 0.2206\n",
            "Epoch 8/10\n",
            "\u001b[1m195/195\u001b[0m \u001b[32m━━━━━━━━━━━━━━━━━━━━\u001b[0m\u001b[37m\u001b[0m \u001b[1m94s\u001b[0m 480ms/step - accuracy: 0.8439 - loss: 0.4468 - val_accuracy: 0.9341 - val_loss: 0.2462\n",
            "Epoch 9/10\n",
            "\u001b[1m195/195\u001b[0m \u001b[32m━━━━━━━━━━━━━━━━━━━━\u001b[0m\u001b[37m\u001b[0m \u001b[1m94s\u001b[0m 480ms/step - accuracy: 0.8550 - loss: 0.4140 - val_accuracy: 0.9396 - val_loss: 0.1973\n",
            "Epoch 10/10\n",
            "\u001b[1m195/195\u001b[0m \u001b[32m━━━━━━━━━━━━━━━━━━━━\u001b[0m\u001b[37m\u001b[0m \u001b[1m92s\u001b[0m 473ms/step - accuracy: 0.8680 - loss: 0.3814 - val_accuracy: 0.9304 - val_loss: 0.2646\n"
          ]
        },
        {
          "output_type": "execute_result",
          "data": {
            "text/plain": [
              "<keras.src.callbacks.history.History at 0x7e677652c710>"
            ]
          },
          "metadata": {},
          "execution_count": 11
        }
      ],
      "source": [
        "model.fit(train_data,validation_data=val_data,epochs=10,batch_size=32)"
      ]
    },
    {
      "cell_type": "code",
      "execution_count": 12,
      "metadata": {
        "id": "xfgC0shGoWmG",
        "colab": {
          "base_uri": "https://localhost:8080/"
        },
        "outputId": "399830a4-3604-4ae3-fd4b-1275b1aea5b5"
      },
      "outputs": [
        {
          "output_type": "stream",
          "name": "stdout",
          "text": [
            "\u001b[1m100/100\u001b[0m \u001b[32m━━━━━━━━━━━━━━━━━━━━\u001b[0m\u001b[37m\u001b[0m \u001b[1m7s\u001b[0m 71ms/step - accuracy: 0.9430 - loss: 0.2060\n"
          ]
        }
      ],
      "source": [
        "base_loss,base_accurracy=model.evaluate(test_data)"
      ]
    },
    {
      "cell_type": "code",
      "execution_count": 29,
      "metadata": {
        "id": "cdKTBsAqu1Sw",
        "colab": {
          "base_uri": "https://localhost:8080/"
        },
        "outputId": "596fd838-4e7c-4440-ead0-feb4a470852b"
      },
      "outputs": [
        {
          "output_type": "stream",
          "name": "stderr",
          "text": [
            "WARNING:absl:You are saving your model as an HDF5 file via `model.save()` or `keras.saving.save_model(model)`. This file format is considered legacy. We recommend using instead the native Keras format, e.g. `model.save('my_model.keras')` or `keras.saving.save_model(model, 'my_model.keras')`. \n"
          ]
        },
        {
          "output_type": "stream",
          "name": "stdout",
          "text": [
            "Drive already mounted at /content/drive; to attempt to forcibly remount, call drive.mount(\"/content/drive\", force_remount=True).\n"
          ]
        }
      ],
      "source": [
        "model.save(\"fish_class_cnn.h5\")\n",
        "from google.colab import drive\n",
        "drive.mount('/content/drive')\n",
        "!cp fish_class_cnn.h5 /content/drive/MyDrive/"
      ]
    },
    {
      "cell_type": "code",
      "execution_count": 20,
      "metadata": {
        "id": "p2Olj_bovFJe"
      },
      "outputs": [],
      "source": [
        "from tensorflow.keras.applications import VGG16,ResNet50,InceptionV3,MobileNetV2,EfficientNetB0\n",
        "from tensorflow.keras.layers import GlobalAveragePooling2D,Dense,Dropout\n",
        "from tensorflow.keras.models import Model\n",
        "from tensorflow.keras.optimizers import Adam"
      ]
    },
    {
      "cell_type": "code",
      "execution_count": 21,
      "metadata": {
        "id": "bivBTftRUB5x"
      },
      "outputs": [],
      "source": [
        "def create_transfer_model(base_model):\n",
        "  base_model.trainable=False\n",
        "\n",
        "  x=base_model.output\n",
        "  x=GlobalAveragePooling2D()(x)\n",
        "  x=Dense(128,activation=\"relu\")(x)\n",
        "  x=Dropout(0.3)(x)\n",
        "  predictions=Dense(11,activation=\"softmax\")(x)\n",
        "\n",
        "  transfer_model=Model(inputs=base_model.input,outputs=predictions)\n",
        "  return transfer_model"
      ]
    },
    {
      "cell_type": "code",
      "execution_count": 22,
      "metadata": {
        "id": "-I5vxU_edHZf",
        "colab": {
          "base_uri": "https://localhost:8080/"
        },
        "outputId": "95c2d224-8d7b-4c82-da5c-b0da698426df"
      },
      "outputs": [
        {
          "output_type": "stream",
          "name": "stdout",
          "text": [
            "Downloading data from https://storage.googleapis.com/tensorflow/keras-applications/vgg16/vgg16_weights_tf_dim_ordering_tf_kernels_notop.h5\n",
            "\u001b[1m58889256/58889256\u001b[0m \u001b[32m━━━━━━━━━━━━━━━━━━━━\u001b[0m\u001b[37m\u001b[0m \u001b[1m0s\u001b[0m 0us/step\n"
          ]
        }
      ],
      "source": [
        "vgg16_base=VGG16(weights=\"imagenet\",include_top=False,input_shape=(244,244,3))\n",
        "VGG16_model=create_transfer_model(vgg16_base)"
      ]
    },
    {
      "cell_type": "code",
      "execution_count": 23,
      "metadata": {
        "id": "o4n4NjNybizw"
      },
      "outputs": [],
      "source": [
        "VGG16_model.compile(optimizer=Adam(),loss=\"categorical_crossentropy\",metrics=[\"accuracy\"])"
      ]
    },
    {
      "cell_type": "code",
      "execution_count": null,
      "metadata": {
        "id": "y0hyAmEhcAx0",
        "colab": {
          "base_uri": "https://localhost:8080/"
        },
        "outputId": "4235c3ab-ed62-4b2e-fec3-97b357da915c"
      },
      "outputs": [
        {
          "output_type": "stream",
          "name": "stdout",
          "text": [
            "Epoch 1/10\n",
            "\u001b[1m195/195\u001b[0m \u001b[32m━━━━━━━━━━━━━━━━━━━━\u001b[0m\u001b[37m\u001b[0m \u001b[1m136s\u001b[0m 698ms/step - accuracy: 0.5704 - loss: 1.4343 - val_accuracy: 0.8141 - val_loss: 0.8705\n",
            "Epoch 2/10\n",
            "\u001b[1m195/195\u001b[0m \u001b[32m━━━━━━━━━━━━━━━━━━━━\u001b[0m\u001b[37m\u001b[0m \u001b[1m109s\u001b[0m 560ms/step - accuracy: 0.7474 - loss: 0.8824 - val_accuracy: 0.8755 - val_loss: 0.5856\n",
            "Epoch 3/10\n",
            "\u001b[1m195/195\u001b[0m \u001b[32m━━━━━━━━━━━━━━━━━━━━\u001b[0m\u001b[37m\u001b[0m \u001b[1m112s\u001b[0m 572ms/step - accuracy: 0.8073 - loss: 0.6501 - val_accuracy: 0.8993 - val_loss: 0.4429\n",
            "Epoch 4/10\n",
            "\u001b[1m195/195\u001b[0m \u001b[32m━━━━━━━━━━━━━━━━━━━━\u001b[0m\u001b[37m\u001b[0m \u001b[1m107s\u001b[0m 550ms/step - accuracy: 0.8522 - loss: 0.4958 - val_accuracy: 0.9194 - val_loss: 0.3431\n",
            "Epoch 5/10\n",
            "\u001b[1m195/195\u001b[0m \u001b[32m━━━━━━━━━━━━━━━━━━━━\u001b[0m\u001b[37m\u001b[0m \u001b[1m108s\u001b[0m 553ms/step - accuracy: 0.8778 - loss: 0.4343 - val_accuracy: 0.9286 - val_loss: 0.3011\n",
            "Epoch 6/10\n",
            "\u001b[1m195/195\u001b[0m \u001b[32m━━━━━━━━━━━━━━━━━━━━\u001b[0m\u001b[37m\u001b[0m \u001b[1m107s\u001b[0m 548ms/step - accuracy: 0.8993 - loss: 0.3605 - val_accuracy: 0.9332 - val_loss: 0.2563\n",
            "Epoch 7/10\n",
            "\u001b[1m195/195\u001b[0m \u001b[32m━━━━━━━━━━━━━━━━━━━━\u001b[0m\u001b[37m\u001b[0m \u001b[1m108s\u001b[0m 556ms/step - accuracy: 0.9133 - loss: 0.3164 - val_accuracy: 0.9368 - val_loss: 0.2368\n",
            "Epoch 8/10\n",
            "\u001b[1m195/195\u001b[0m \u001b[32m━━━━━━━━━━━━━━━━━━━━\u001b[0m\u001b[37m\u001b[0m \u001b[1m108s\u001b[0m 554ms/step - accuracy: 0.9122 - loss: 0.2935 - val_accuracy: 0.9451 - val_loss: 0.2075\n",
            "Epoch 9/10\n",
            "\u001b[1m195/195\u001b[0m \u001b[32m━━━━━━━━━━━━━━━━━━━━\u001b[0m\u001b[37m\u001b[0m \u001b[1m109s\u001b[0m 557ms/step - accuracy: 0.9226 - loss: 0.2625 - val_accuracy: 0.9560 - val_loss: 0.1763\n",
            "Epoch 10/10\n"
          ]
        }
      ],
      "source": [
        "VGG16_model.fit(train_data,validation_data=val_data,epochs=10,batch_size=100)"
      ]
    },
    {
      "cell_type": "code",
      "execution_count": 28,
      "metadata": {
        "id": "Yh3eo1nycWXY",
        "colab": {
          "base_uri": "https://localhost:8080/"
        },
        "outputId": "49a349e2-b7c1-4f4a-d81c-9f59cba41f82"
      },
      "outputs": [
        {
          "output_type": "stream",
          "name": "stdout",
          "text": [
            "\u001b[1m100/100\u001b[0m \u001b[32m━━━━━━━━━━━━━━━━━━━━\u001b[0m\u001b[37m\u001b[0m \u001b[1m23s\u001b[0m 224ms/step - accuracy: 0.9666 - loss: 0.1402\n"
          ]
        }
      ],
      "source": [
        "VGG16_loss,VGG16_accuracy=VGG16_model.evaluate(test_data)"
      ]
    },
    {
      "cell_type": "code",
      "execution_count": 31,
      "metadata": {
        "id": "sdrXmo-UfSsV",
        "colab": {
          "base_uri": "https://localhost:8080/"
        },
        "outputId": "8a01eb3e-36d0-4760-f728-097e2a46c9aa"
      },
      "outputs": [
        {
          "output_type": "stream",
          "name": "stdout",
          "text": [
            "Epoch 1/5\n",
            "\u001b[1m195/195\u001b[0m \u001b[32m━━━━━━━━━━━━━━━━━━━━\u001b[0m\u001b[37m\u001b[0m \u001b[1m156s\u001b[0m 760ms/step - accuracy: 0.9638 - loss: 0.1353 - val_accuracy: 0.9872 - val_loss: 0.0274\n",
            "Epoch 2/5\n",
            "\u001b[1m195/195\u001b[0m \u001b[32m━━━━━━━━━━━━━━━━━━━━\u001b[0m\u001b[37m\u001b[0m \u001b[1m137s\u001b[0m 698ms/step - accuracy: 0.9816 - loss: 0.0615 - val_accuracy: 0.9908 - val_loss: 0.0289\n",
            "Epoch 3/5\n",
            "\u001b[1m195/195\u001b[0m \u001b[32m━━━━━━━━━━━━━━━━━━━━\u001b[0m\u001b[37m\u001b[0m \u001b[1m136s\u001b[0m 698ms/step - accuracy: 0.9944 - loss: 0.0176 - val_accuracy: 0.9634 - val_loss: 0.1237\n",
            "Epoch 4/5\n",
            "\u001b[1m195/195\u001b[0m \u001b[32m━━━━━━━━━━━━━━━━━━━━\u001b[0m\u001b[37m\u001b[0m \u001b[1m136s\u001b[0m 698ms/step - accuracy: 0.9479 - loss: 0.1917 - val_accuracy: 0.9707 - val_loss: 0.0987\n",
            "Epoch 5/5\n",
            "\u001b[1m195/195\u001b[0m \u001b[32m━━━━━━━━━━━━━━━━━━━━\u001b[0m\u001b[37m\u001b[0m \u001b[1m137s\u001b[0m 699ms/step - accuracy: 0.9825 - loss: 0.0677 - val_accuracy: 0.9853 - val_loss: 0.0394\n"
          ]
        },
        {
          "output_type": "execute_result",
          "data": {
            "text/plain": [
              "<keras.src.callbacks.history.History at 0x7e66dee5b190>"
            ]
          },
          "metadata": {},
          "execution_count": 31
        }
      ],
      "source": [
        "vgg16_base.trainable=True\n",
        "\n",
        "VGG16_model.compile(optimizer=Adam(learning_rate=0.0001),loss=\"categorical_crossentropy\",metrics=[\"accuracy\"])\n",
        "\n",
        "VGG16_model.fit(train_data,validation_data=val_data,epochs=5)"
      ]
    },
    {
      "cell_type": "code",
      "execution_count": 40,
      "metadata": {
        "id": "W54GdzUpfUJ8",
        "colab": {
          "base_uri": "https://localhost:8080/"
        },
        "outputId": "f5c60b8a-ffac-4b05-80b5-701e3254669a"
      },
      "outputs": [
        {
          "output_type": "stream",
          "name": "stderr",
          "text": [
            "WARNING:absl:You are saving your model as an HDF5 file via `model.save()` or `keras.saving.save_model(model)`. This file format is considered legacy. We recommend using instead the native Keras format, e.g. `model.save('my_model.keras')` or `keras.saving.save_model(model, 'my_model.keras')`. \n"
          ]
        },
        {
          "output_type": "stream",
          "name": "stdout",
          "text": [
            "Drive already mounted at /content/drive; to attempt to forcibly remount, call drive.mount(\"/content/drive\", force_remount=True).\n"
          ]
        }
      ],
      "source": [
        "VGG16_model.save(\"VGG16_fish_class.h5\")\n",
        "from google.colab import drive\n",
        "drive.mount('/content/drive')\n",
        "!cp VGG16_fish_class.h5 /content/drive/MyDrive/"
      ]
    },
    {
      "cell_type": "markdown",
      "metadata": {
        "id": "bJjCK2T7jewW"
      },
      "source": [
        "## ResNet50 Model"
      ]
    },
    {
      "cell_type": "code",
      "execution_count": 33,
      "metadata": {
        "id": "Lfaa7aZSfUkz",
        "colab": {
          "base_uri": "https://localhost:8080/"
        },
        "outputId": "da049abc-bc74-4d9d-ae15-4e33c8e31fcd"
      },
      "outputs": [
        {
          "output_type": "stream",
          "name": "stdout",
          "text": [
            "Downloading data from https://storage.googleapis.com/tensorflow/keras-applications/resnet/resnet50_weights_tf_dim_ordering_tf_kernels_notop.h5\n",
            "\u001b[1m94765736/94765736\u001b[0m \u001b[32m━━━━━━━━━━━━━━━━━━━━\u001b[0m\u001b[37m\u001b[0m \u001b[1m0s\u001b[0m 0us/step\n",
            "Epoch 1/10\n",
            "\u001b[1m195/195\u001b[0m \u001b[32m━━━━━━━━━━━━━━━━━━━━\u001b[0m\u001b[37m\u001b[0m \u001b[1m127s\u001b[0m 573ms/step - accuracy: 0.1410 - loss: 2.4073 - val_accuracy: 0.1712 - val_loss: 2.2944\n",
            "Epoch 2/10\n",
            "\u001b[1m195/195\u001b[0m \u001b[32m━━━━━━━━━━━━━━━━━━━━\u001b[0m\u001b[37m\u001b[0m \u001b[1m98s\u001b[0m 505ms/step - accuracy: 0.1764 - loss: 2.2877 - val_accuracy: 0.1712 - val_loss: 2.2738\n",
            "Epoch 3/10\n",
            "\u001b[1m195/195\u001b[0m \u001b[32m━━━━━━━━━━━━━━━━━━━━\u001b[0m\u001b[37m\u001b[0m \u001b[1m96s\u001b[0m 493ms/step - accuracy: 0.1726 - loss: 2.2612 - val_accuracy: 0.1712 - val_loss: 2.2384\n",
            "Epoch 4/10\n",
            "\u001b[1m195/195\u001b[0m \u001b[32m━━━━━━━━━━━━━━━━━━━━\u001b[0m\u001b[37m\u001b[0m \u001b[1m142s\u001b[0m 492ms/step - accuracy: 0.1808 - loss: 2.2340 - val_accuracy: 0.1905 - val_loss: 2.2094\n",
            "Epoch 5/10\n",
            "\u001b[1m195/195\u001b[0m \u001b[32m━━━━━━━━━━━━━━━━━━━━\u001b[0m\u001b[37m\u001b[0m \u001b[1m142s\u001b[0m 493ms/step - accuracy: 0.1919 - loss: 2.1984 - val_accuracy: 0.1658 - val_loss: 2.2016\n",
            "Epoch 6/10\n",
            "\u001b[1m195/195\u001b[0m \u001b[32m━━━━━━━━━━━━━━━━━━━━\u001b[0m\u001b[37m\u001b[0m \u001b[1m98s\u001b[0m 500ms/step - accuracy: 0.1966 - loss: 2.1776 - val_accuracy: 0.2262 - val_loss: 2.1660\n",
            "Epoch 7/10\n",
            "\u001b[1m195/195\u001b[0m \u001b[32m━━━━━━━━━━━━━━━━━━━━\u001b[0m\u001b[37m\u001b[0m \u001b[1m97s\u001b[0m 497ms/step - accuracy: 0.2034 - loss: 2.1684 - val_accuracy: 0.2271 - val_loss: 2.1329\n",
            "Epoch 8/10\n",
            "\u001b[1m195/195\u001b[0m \u001b[32m━━━━━━━━━━━━━━━━━━━━\u001b[0m\u001b[37m\u001b[0m \u001b[1m96s\u001b[0m 494ms/step - accuracy: 0.1955 - loss: 2.1601 - val_accuracy: 0.1832 - val_loss: 2.1441\n",
            "Epoch 9/10\n",
            "\u001b[1m195/195\u001b[0m \u001b[32m━━━━━━━━━━━━━━━━━━━━\u001b[0m\u001b[37m\u001b[0m \u001b[1m95s\u001b[0m 488ms/step - accuracy: 0.1963 - loss: 2.1552 - val_accuracy: 0.2051 - val_loss: 2.1000\n",
            "Epoch 10/10\n",
            "\u001b[1m195/195\u001b[0m \u001b[32m━━━━━━━━━━━━━━━━━━━━\u001b[0m\u001b[37m\u001b[0m \u001b[1m96s\u001b[0m 490ms/step - accuracy: 0.1993 - loss: 2.1279 - val_accuracy: 0.2427 - val_loss: 2.0927\n"
          ]
        },
        {
          "output_type": "execute_result",
          "data": {
            "text/plain": [
              "<keras.src.callbacks.history.History at 0x7e676821b650>"
            ]
          },
          "metadata": {},
          "execution_count": 33
        }
      ],
      "source": [
        "ResNet50_base=ResNet50(weights='imagenet',include_top=False,input_shape=(244,244,3))\n",
        "ResNet50_model=create_transfer_model(ResNet50_base)\n",
        "\n",
        "ResNet50_model.compile(optimizer=Adam(),loss=\"categorical_crossentropy\",metrics=[\"accuracy\"])\n",
        "\n",
        "ResNet50_model.fit(train_data,validation_data=val_data,epochs=10,batch_size=32)"
      ]
    },
    {
      "cell_type": "code",
      "execution_count": 34,
      "metadata": {
        "id": "NMueJgq2fU0F",
        "colab": {
          "base_uri": "https://localhost:8080/"
        },
        "outputId": "7a962bdc-1ad1-4008-a494-f63e5784220b"
      },
      "outputs": [
        {
          "output_type": "stream",
          "name": "stdout",
          "text": [
            "\u001b[1m100/100\u001b[0m \u001b[32m━━━━━━━━━━━━━━━━━━━━\u001b[0m\u001b[37m\u001b[0m \u001b[1m14s\u001b[0m 144ms/step - accuracy: 0.2642 - loss: 2.0855\n"
          ]
        }
      ],
      "source": [
        "ResNet_loss,ResNet_accuracy=ResNet50_model.evaluate(test_data)"
      ]
    },
    {
      "cell_type": "code",
      "execution_count": 35,
      "metadata": {
        "id": "2DFIwplzzC17",
        "colab": {
          "base_uri": "https://localhost:8080/"
        },
        "outputId": "14121c23-18eb-4950-e620-8847de73f2ce"
      },
      "outputs": [
        {
          "output_type": "stream",
          "name": "stdout",
          "text": [
            "Epoch 1/5\n",
            "\u001b[1m195/195\u001b[0m \u001b[32m━━━━━━━━━━━━━━━━━━━━\u001b[0m\u001b[37m\u001b[0m \u001b[1m209s\u001b[0m 752ms/step - accuracy: 0.5547 - loss: 4.1402 - val_accuracy: 0.1712 - val_loss: 34.1350\n",
            "Epoch 2/5\n",
            "\u001b[1m195/195\u001b[0m \u001b[32m━━━━━━━━━━━━━━━━━━━━\u001b[0m\u001b[37m\u001b[0m \u001b[1m147s\u001b[0m 613ms/step - accuracy: 0.9791 - loss: 0.1055 - val_accuracy: 0.1712 - val_loss: 34.7072\n",
            "Epoch 3/5\n",
            "\u001b[1m195/195\u001b[0m \u001b[32m━━━━━━━━━━━━━━━━━━━━\u001b[0m\u001b[37m\u001b[0m \u001b[1m115s\u001b[0m 588ms/step - accuracy: 0.9858 - loss: 0.0553 - val_accuracy: 0.1712 - val_loss: 30.7273\n",
            "Epoch 4/5\n",
            "\u001b[1m195/195\u001b[0m \u001b[32m━━━━━━━━━━━━━━━━━━━━\u001b[0m\u001b[37m\u001b[0m \u001b[1m115s\u001b[0m 590ms/step - accuracy: 0.9879 - loss: 0.0416 - val_accuracy: 0.1951 - val_loss: 17.1787\n",
            "Epoch 5/5\n",
            "\u001b[1m195/195\u001b[0m \u001b[32m━━━━━━━━━━━━━━━━━━━━\u001b[0m\u001b[37m\u001b[0m \u001b[1m116s\u001b[0m 596ms/step - accuracy: 0.9882 - loss: 0.0465 - val_accuracy: 0.8654 - val_loss: 0.5700\n"
          ]
        },
        {
          "output_type": "execute_result",
          "data": {
            "text/plain": [
              "<keras.src.callbacks.history.History at 0x7e66d02e61d0>"
            ]
          },
          "metadata": {},
          "execution_count": 35
        }
      ],
      "source": [
        "ResNet50_base.trainable=True\n",
        "\n",
        "ResNet50_model.compile(optimizer=Adam(learning_rate=0.0001),loss=\"categorical_crossentropy\",metrics=[\"accuracy\"])\n",
        "\n",
        "ResNet50_model.fit(train_data,validation_data=val_data,epochs=5)"
      ]
    },
    {
      "cell_type": "code",
      "execution_count": 36,
      "metadata": {
        "id": "CXzHYdH1zEK_",
        "colab": {
          "base_uri": "https://localhost:8080/"
        },
        "outputId": "1a014947-6d41-46e0-de12-49002bbad9ad"
      },
      "outputs": [
        {
          "output_type": "stream",
          "name": "stdout",
          "text": [
            "\u001b[1m100/100\u001b[0m \u001b[32m━━━━━━━━━━━━━━━━━━━━\u001b[0m\u001b[37m\u001b[0m \u001b[1m12s\u001b[0m 122ms/step - accuracy: 0.8726 - loss: 0.5777\n"
          ]
        }
      ],
      "source": [
        "ResNet50_loss,ResNet50_accuracy=ResNet50_model.evaluate(test_data)"
      ]
    },
    {
      "cell_type": "code",
      "execution_count": 52,
      "metadata": {
        "id": "zmeT7wM9zFVF",
        "colab": {
          "base_uri": "https://localhost:8080/"
        },
        "outputId": "8bf37205-f84c-4b34-a99b-387481ea35e6"
      },
      "outputs": [
        {
          "output_type": "stream",
          "name": "stderr",
          "text": [
            "WARNING:absl:You are saving your model as an HDF5 file via `model.save()` or `keras.saving.save_model(model)`. This file format is considered legacy. We recommend using instead the native Keras format, e.g. `model.save('my_model.keras')` or `keras.saving.save_model(model, 'my_model.keras')`. \n"
          ]
        },
        {
          "output_type": "stream",
          "name": "stdout",
          "text": [
            "Drive already mounted at /content/drive; to attempt to forcibly remount, call drive.mount(\"/content/drive\", force_remount=True).\n"
          ]
        }
      ],
      "source": [
        "ResNet50_model.save(\"ResNet50_fish_class.h5\")\n",
        "drive.mount('/content/drive')\n",
        "!cp ResNet50_fish_class.h5 /content/drive/MyDrive/"
      ]
    },
    {
      "cell_type": "code",
      "execution_count": 38,
      "metadata": {
        "id": "Y8Dwoc9WzFKX",
        "colab": {
          "base_uri": "https://localhost:8080/"
        },
        "outputId": "845f8d89-e8a4-4387-9783-2c5b4ae4754f"
      },
      "outputs": [
        {
          "output_type": "stream",
          "name": "stdout",
          "text": [
            "Found 6225 images belonging to 11 classes.\n",
            "Found 3187 images belonging to 11 classes.\n",
            "Found 1092 images belonging to 11 classes.\n"
          ]
        }
      ],
      "source": [
        "# Converting the dimensions to 224,224\n",
        "train_data=train_gen.flow_from_directory(train,target_size=(224,224),class_mode=\"categorical\")\n",
        "test_data=val_gen.flow_from_directory(test,target_size=(224,224),class_mode=\"categorical\")\n",
        "val_data=val_gen.flow_from_directory(val,target_size=(224,224),class_mode=\"categorical\")"
      ]
    },
    {
      "cell_type": "markdown",
      "metadata": {
        "id": "PNcOs4su1wTT"
      },
      "source": [
        "## MobileNet Model"
      ]
    },
    {
      "cell_type": "code",
      "execution_count": 41,
      "metadata": {
        "id": "kQArBd2rzE-p",
        "colab": {
          "base_uri": "https://localhost:8080/"
        },
        "outputId": "99214d6a-5bcf-4aec-e78e-f1456e968711"
      },
      "outputs": [
        {
          "output_type": "stream",
          "name": "stdout",
          "text": [
            "Epoch 1/10\n",
            "\u001b[1m195/195\u001b[0m \u001b[32m━━━━━━━━━━━━━━━━━━━━\u001b[0m\u001b[37m\u001b[0m \u001b[1m0s\u001b[0m 403ms/step - accuracy: 0.7034 - loss: 0.9168"
          ]
        },
        {
          "output_type": "stream",
          "name": "stderr",
          "text": [
            "/usr/local/lib/python3.11/dist-packages/keras/src/trainers/data_adapters/py_dataset_adapter.py:121: UserWarning: Your `PyDataset` class should call `super().__init__(**kwargs)` in its constructor. `**kwargs` can include `workers`, `use_multiprocessing`, `max_queue_size`. Do not pass these arguments to `fit()`, as they will be ignored.\n",
            "  self._warn_if_super_not_called()\n"
          ]
        },
        {
          "output_type": "stream",
          "name": "stdout",
          "text": [
            "\b\b\b\b\b\b\b\b\b\b\b\b\b\b\b\b\b\b\b\b\b\b\b\b\b\b\b\b\b\b\b\b\b\b\b\b\b\b\b\b\b\b\b\b\b\b\b\b\b\b\b\b\b\b\b\b\b\b\b\b\b\b\b\b\b\b\b\b\b\b\b\b\b\b\b\b\r\u001b[1m195/195\u001b[0m \u001b[32m━━━━━━━━━━━━━━━━━━━━\u001b[0m\u001b[37m\u001b[0m \u001b[1m95s\u001b[0m 449ms/step - accuracy: 0.7041 - loss: 0.9145 - val_accuracy: 0.9560 - val_loss: 0.1290\n",
            "Epoch 2/10\n",
            "\u001b[1m195/195\u001b[0m \u001b[32m━━━━━━━━━━━━━━━━━━━━\u001b[0m\u001b[37m\u001b[0m \u001b[1m76s\u001b[0m 390ms/step - accuracy: 0.9587 - loss: 0.1412 - val_accuracy: 0.9753 - val_loss: 0.0753\n",
            "Epoch 3/10\n",
            "\u001b[1m195/195\u001b[0m \u001b[32m━━━━━━━━━━━━━━━━━━━━\u001b[0m\u001b[37m\u001b[0m \u001b[1m77s\u001b[0m 396ms/step - accuracy: 0.9738 - loss: 0.0910 - val_accuracy: 0.9844 - val_loss: 0.0515\n",
            "Epoch 4/10\n",
            "\u001b[1m195/195\u001b[0m \u001b[32m━━━━━━━━━━━━━━━━━━━━\u001b[0m\u001b[37m\u001b[0m \u001b[1m78s\u001b[0m 399ms/step - accuracy: 0.9779 - loss: 0.0671 - val_accuracy: 0.9826 - val_loss: 0.0535\n",
            "Epoch 5/10\n",
            "\u001b[1m195/195\u001b[0m \u001b[32m━━━━━━━━━━━━━━━━━━━━\u001b[0m\u001b[37m\u001b[0m \u001b[1m80s\u001b[0m 409ms/step - accuracy: 0.9851 - loss: 0.0499 - val_accuracy: 0.9872 - val_loss: 0.0302\n",
            "Epoch 6/10\n",
            "\u001b[1m195/195\u001b[0m \u001b[32m━━━━━━━━━━━━━━━━━━━━\u001b[0m\u001b[37m\u001b[0m \u001b[1m79s\u001b[0m 405ms/step - accuracy: 0.9854 - loss: 0.0487 - val_accuracy: 0.9881 - val_loss: 0.0370\n",
            "Epoch 7/10\n",
            "\u001b[1m195/195\u001b[0m \u001b[32m━━━━━━━━━━━━━━━━━━━━\u001b[0m\u001b[37m\u001b[0m \u001b[1m78s\u001b[0m 399ms/step - accuracy: 0.9864 - loss: 0.0399 - val_accuracy: 0.9853 - val_loss: 0.0393\n",
            "Epoch 8/10\n",
            "\u001b[1m195/195\u001b[0m \u001b[32m━━━━━━━━━━━━━━━━━━━━\u001b[0m\u001b[37m\u001b[0m \u001b[1m83s\u001b[0m 404ms/step - accuracy: 0.9832 - loss: 0.0510 - val_accuracy: 0.9789 - val_loss: 0.0507\n",
            "Epoch 9/10\n",
            "\u001b[1m195/195\u001b[0m \u001b[32m━━━━━━━━━━━━━━━━━━━━\u001b[0m\u001b[37m\u001b[0m \u001b[1m77s\u001b[0m 393ms/step - accuracy: 0.9919 - loss: 0.0319 - val_accuracy: 0.9881 - val_loss: 0.0408\n",
            "Epoch 10/10\n",
            "\u001b[1m195/195\u001b[0m \u001b[32m━━━━━━━━━━━━━━━━━━━━\u001b[0m\u001b[37m\u001b[0m \u001b[1m83s\u001b[0m 400ms/step - accuracy: 0.9883 - loss: 0.0356 - val_accuracy: 0.9844 - val_loss: 0.0419\n"
          ]
        }
      ],
      "source": [
        "MobileNet_base=MobileNetV2(weights=\"imagenet\",include_top=False,input_shape=(224,224,3))\n",
        "MobileNet_model=create_transfer_model(MobileNet_base)\n",
        "\n",
        "MobileNet_model.compile(optimizer=Adam(),loss=\"categorical_crossentropy\",metrics=[\"accuracy\"])\n",
        "\n",
        "MobileNet_history=MobileNet_model.fit(train_data,validation_data=val_data,epochs=10,batch_size=64)"
      ]
    },
    {
      "cell_type": "code",
      "execution_count": 42,
      "metadata": {
        "id": "AukxecNyzEzT",
        "colab": {
          "base_uri": "https://localhost:8080/"
        },
        "outputId": "dd9d586c-fa0e-4e02-f47e-003b22395aad"
      },
      "outputs": [
        {
          "output_type": "stream",
          "name": "stdout",
          "text": [
            "\u001b[1m100/100\u001b[0m \u001b[32m━━━━━━━━━━━━━━━━━━━━\u001b[0m\u001b[37m\u001b[0m \u001b[1m9s\u001b[0m 91ms/step - accuracy: 0.9905 - loss: 0.0305\n"
          ]
        }
      ],
      "source": [
        "MobileNet_loss,MobileNet_accuracy=MobileNet_model.evaluate(test_data)"
      ]
    },
    {
      "cell_type": "code",
      "execution_count": 43,
      "metadata": {
        "id": "6bTvN64n3p0-",
        "colab": {
          "base_uri": "https://localhost:8080/"
        },
        "outputId": "76f12a79-1c72-42c6-a78c-90ac88ba1c13"
      },
      "outputs": [
        {
          "output_type": "stream",
          "name": "stdout",
          "text": [
            "Epoch 1/5\n",
            "\u001b[1m195/195\u001b[0m \u001b[32m━━━━━━━━━━━━━━━━━━━━\u001b[0m\u001b[37m\u001b[0m \u001b[1m194s\u001b[0m 570ms/step - accuracy: 0.8180 - loss: 1.8645 - val_accuracy: 0.8462 - val_loss: 0.6622\n",
            "Epoch 2/5\n",
            "\u001b[1m195/195\u001b[0m \u001b[32m━━━━━━━━━━━━━━━━━━━━\u001b[0m\u001b[37m\u001b[0m \u001b[1m91s\u001b[0m 432ms/step - accuracy: 0.9871 - loss: 0.0413 - val_accuracy: 0.9679 - val_loss: 0.1367\n",
            "Epoch 3/5\n",
            "\u001b[1m195/195\u001b[0m \u001b[32m━━━━━━━━━━━━━━━━━━━━\u001b[0m\u001b[37m\u001b[0m \u001b[1m84s\u001b[0m 431ms/step - accuracy: 0.9921 - loss: 0.0229 - val_accuracy: 0.9670 - val_loss: 0.0935\n",
            "Epoch 4/5\n",
            "\u001b[1m195/195\u001b[0m \u001b[32m━━━━━━━━━━━━━━━━━━━━\u001b[0m\u001b[37m\u001b[0m \u001b[1m142s\u001b[0m 429ms/step - accuracy: 0.9926 - loss: 0.0226 - val_accuracy: 0.9826 - val_loss: 0.0680\n",
            "Epoch 5/5\n",
            "\u001b[1m195/195\u001b[0m \u001b[32m━━━━━━━━━━━━━━━━━━━━\u001b[0m\u001b[37m\u001b[0m \u001b[1m83s\u001b[0m 425ms/step - accuracy: 0.9948 - loss: 0.0164 - val_accuracy: 0.9872 - val_loss: 0.0538\n"
          ]
        },
        {
          "output_type": "execute_result",
          "data": {
            "text/plain": [
              "<keras.src.callbacks.history.History at 0x7e65920fe1d0>"
            ]
          },
          "metadata": {},
          "execution_count": 43
        }
      ],
      "source": [
        "MobileNet_base.trainable=True\n",
        "\n",
        "MobileNet_model.compile(optimizer=Adam(learning_rate=0.0001),loss=\"categorical_crossentropy\",metrics=[\"accuracy\"])\n",
        "\n",
        "MobileNet_model.fit(train_data,validation_data=val_data,epochs=5)"
      ]
    },
    {
      "cell_type": "code",
      "execution_count": 44,
      "metadata": {
        "id": "PVAs1Xwi3pxn",
        "colab": {
          "base_uri": "https://localhost:8080/"
        },
        "outputId": "7e3d0d1e-5062-464d-e97f-25d36bdd6472"
      },
      "outputs": [
        {
          "output_type": "stream",
          "name": "stdout",
          "text": [
            "\u001b[1m100/100\u001b[0m \u001b[32m━━━━━━━━━━━━━━━━━━━━\u001b[0m\u001b[37m\u001b[0m \u001b[1m8s\u001b[0m 76ms/step - accuracy: 0.9802 - loss: 0.0623\n"
          ]
        }
      ],
      "source": [
        "MobileNet_tuned_loss,MobileNet_tuned_accuracy=MobileNet_model.evaluate(test_data)"
      ]
    },
    {
      "cell_type": "code",
      "source": [
        "MobileNet_model.save(\"MobileNet_fish_class.h5\")\n",
        "drive.mount('/content/drive')\n",
        "!cp MobileNet_fish_class.h5 /content/drive/MyDrive/"
      ],
      "metadata": {
        "id": "1iOwc7sIayIC",
        "colab": {
          "base_uri": "https://localhost:8080/"
        },
        "outputId": "8c609161-15eb-4841-b977-df4c5c1c43b5"
      },
      "execution_count": 45,
      "outputs": [
        {
          "output_type": "stream",
          "name": "stderr",
          "text": [
            "WARNING:absl:You are saving your model as an HDF5 file via `model.save()` or `keras.saving.save_model(model)`. This file format is considered legacy. We recommend using instead the native Keras format, e.g. `model.save('my_model.keras')` or `keras.saving.save_model(model, 'my_model.keras')`. \n"
          ]
        },
        {
          "output_type": "stream",
          "name": "stdout",
          "text": [
            "Drive already mounted at /content/drive; to attempt to forcibly remount, call drive.mount(\"/content/drive\", force_remount=True).\n"
          ]
        }
      ]
    },
    {
      "cell_type": "markdown",
      "source": [
        "## EfficientNetB0 model"
      ],
      "metadata": {
        "id": "ajIaketGX1-x"
      }
    },
    {
      "cell_type": "code",
      "execution_count": 46,
      "metadata": {
        "id": "8kwiF09X3pvO",
        "colab": {
          "base_uri": "https://localhost:8080/"
        },
        "outputId": "f059248d-e05a-449b-972b-297906af8588"
      },
      "outputs": [
        {
          "output_type": "stream",
          "name": "stdout",
          "text": [
            "Downloading data from https://storage.googleapis.com/keras-applications/efficientnetb0_notop.h5\n",
            "\u001b[1m16705208/16705208\u001b[0m \u001b[32m━━━━━━━━━━━━━━━━━━━━\u001b[0m\u001b[37m\u001b[0m \u001b[1m0s\u001b[0m 0us/step\n",
            "Epoch 1/5\n",
            "\u001b[1m195/195\u001b[0m \u001b[32m━━━━━━━━━━━━━━━━━━━━\u001b[0m\u001b[37m\u001b[0m \u001b[1m124s\u001b[0m 525ms/step - accuracy: 0.1533 - loss: 2.3539 - val_accuracy: 0.1712 - val_loss: 2.3166\n",
            "Epoch 2/5\n",
            "\u001b[1m195/195\u001b[0m \u001b[32m━━━━━━━━━━━━━━━━━━━━\u001b[0m\u001b[37m\u001b[0m \u001b[1m108s\u001b[0m 408ms/step - accuracy: 0.1664 - loss: 2.3209 - val_accuracy: 0.1712 - val_loss: 2.3119\n",
            "Epoch 3/5\n",
            "\u001b[1m195/195\u001b[0m \u001b[32m━━━━━━━━━━━━━━━━━━━━\u001b[0m\u001b[37m\u001b[0m \u001b[1m79s\u001b[0m 407ms/step - accuracy: 0.1681 - loss: 2.3152 - val_accuracy: 0.1712 - val_loss: 2.3139\n",
            "Epoch 4/5\n",
            "\u001b[1m195/195\u001b[0m \u001b[32m━━━━━━━━━━━━━━━━━━━━\u001b[0m\u001b[37m\u001b[0m \u001b[1m78s\u001b[0m 401ms/step - accuracy: 0.1687 - loss: 2.3144 - val_accuracy: 0.1712 - val_loss: 2.3134\n",
            "Epoch 5/5\n",
            "\u001b[1m195/195\u001b[0m \u001b[32m━━━━━━━━━━━━━━━━━━━━\u001b[0m\u001b[37m\u001b[0m \u001b[1m82s\u001b[0m 401ms/step - accuracy: 0.1774 - loss: 2.3049 - val_accuracy: 0.1712 - val_loss: 2.3168\n"
          ]
        }
      ],
      "source": [
        "EfficientNet_base=EfficientNetB0(weights=\"imagenet\",include_top=False,input_shape=(224,224,3))\n",
        "EfficientNet_model=create_transfer_model(EfficientNet_base)\n",
        "\n",
        "EfficientNet_model.compile(optimizer=Adam(),loss=\"categorical_crossentropy\",metrics=[\"accuracy\"])\n",
        "\n",
        "EfficientNet_history=EfficientNet_model.fit(train_data,validation_data=val_data,epochs=5,batch_size=64)"
      ]
    },
    {
      "cell_type": "code",
      "execution_count": 47,
      "metadata": {
        "id": "9S0xBi-13plY",
        "colab": {
          "base_uri": "https://localhost:8080/"
        },
        "outputId": "70f67d86-2f16-41ad-c7dd-2dc5e9628e15"
      },
      "outputs": [
        {
          "output_type": "stream",
          "name": "stdout",
          "text": [
            "\u001b[1m100/100\u001b[0m \u001b[32m━━━━━━━━━━━━━━━━━━━━\u001b[0m\u001b[37m\u001b[0m \u001b[1m11s\u001b[0m 111ms/step - accuracy: 0.1620 - loss: 2.3018\n"
          ]
        }
      ],
      "source": [
        "EfficientNet_loss,EfficientNet_accuracy=EfficientNet_model.evaluate(test_data)"
      ]
    },
    {
      "cell_type": "code",
      "execution_count": 48,
      "metadata": {
        "id": "ufssMQXy3pXs",
        "colab": {
          "base_uri": "https://localhost:8080/"
        },
        "outputId": "9b180395-e93b-4376-8c0f-1285ed9fc8dd"
      },
      "outputs": [
        {
          "output_type": "stream",
          "name": "stdout",
          "text": [
            "Epoch 1/5\n",
            "\u001b[1m195/195\u001b[0m \u001b[32m━━━━━━━━━━━━━━━━━━━━\u001b[0m\u001b[37m\u001b[0m \u001b[1m214s\u001b[0m 678ms/step - accuracy: 0.7959 - loss: 0.6657 - val_accuracy: 0.1712 - val_loss: 2.6318\n",
            "Epoch 2/5\n",
            "\u001b[1m195/195\u001b[0m \u001b[32m━━━━━━━━━━━━━━━━━━━━\u001b[0m\u001b[37m\u001b[0m \u001b[1m86s\u001b[0m 438ms/step - accuracy: 0.9737 - loss: 0.0936 - val_accuracy: 0.1639 - val_loss: 5.3083\n",
            "Epoch 3/5\n",
            "\u001b[1m195/195\u001b[0m \u001b[32m━━━━━━━━━━━━━━━━━━━━\u001b[0m\u001b[37m\u001b[0m \u001b[1m84s\u001b[0m 432ms/step - accuracy: 0.9796 - loss: 0.0718 - val_accuracy: 0.0092 - val_loss: 4.0590\n",
            "Epoch 4/5\n",
            "\u001b[1m195/195\u001b[0m \u001b[32m━━━━━━━━━━━━━━━━━━━━\u001b[0m\u001b[37m\u001b[0m \u001b[1m86s\u001b[0m 439ms/step - accuracy: 0.9765 - loss: 0.0796 - val_accuracy: 0.1282 - val_loss: 54.3538\n",
            "Epoch 5/5\n",
            "\u001b[1m195/195\u001b[0m \u001b[32m━━━━━━━━━━━━━━━━━━━━\u001b[0m\u001b[37m\u001b[0m \u001b[1m87s\u001b[0m 446ms/step - accuracy: 0.9893 - loss: 0.0342 - val_accuracy: 0.1712 - val_loss: 21.8417\n"
          ]
        }
      ],
      "source": [
        "EfficientNet_base.trainable=True\n",
        "\n",
        "EfficientNet_model.compile(optimizer=Adam(),loss=\"categorical_crossentropy\",metrics=[\"accuracy\"])\n",
        "\n",
        "EfficientNet_tuned_history=EfficientNet_model.fit(train_data,validation_data=val_data,epochs=5)"
      ]
    },
    {
      "cell_type": "code",
      "source": [
        "EfficientNet_tuned_loss,EfficientNet_tuned_accuracy=EfficientNet_model.evaluate(test_data)"
      ],
      "metadata": {
        "id": "WNm2RVOQaQuS",
        "colab": {
          "base_uri": "https://localhost:8080/"
        },
        "outputId": "1a13eab1-0813-4fbc-f347-cb4cc559b9c0"
      },
      "execution_count": 49,
      "outputs": [
        {
          "output_type": "stream",
          "name": "stdout",
          "text": [
            "\u001b[1m100/100\u001b[0m \u001b[32m━━━━━━━━━━━━━━━━━━━━\u001b[0m\u001b[37m\u001b[0m \u001b[1m10s\u001b[0m 102ms/step - accuracy: 0.1652 - loss: 21.9335\n"
          ]
        }
      ]
    },
    {
      "cell_type": "code",
      "source": [
        "EfficientNet_model.save(\"EfficientNet_fish_class.h5\")\n",
        "drive.mount('/content/drive')\n",
        "!cp EfficientNet_fish_class.h5 /content/drive/MyDrive/"
      ],
      "metadata": {
        "id": "rZn0RUYHaeys",
        "colab": {
          "base_uri": "https://localhost:8080/"
        },
        "outputId": "74729d9c-6edf-4157-9806-479486733a41"
      },
      "execution_count": 50,
      "outputs": [
        {
          "output_type": "stream",
          "name": "stderr",
          "text": [
            "WARNING:absl:You are saving your model as an HDF5 file via `model.save()` or `keras.saving.save_model(model)`. This file format is considered legacy. We recommend using instead the native Keras format, e.g. `model.save('my_model.keras')` or `keras.saving.save_model(model, 'my_model.keras')`. \n"
          ]
        },
        {
          "output_type": "stream",
          "name": "stdout",
          "text": [
            "Drive already mounted at /content/drive; to attempt to forcibly remount, call drive.mount(\"/content/drive\", force_remount=True).\n"
          ]
        }
      ]
    },
    {
      "cell_type": "code",
      "source": [
        "print(f'Base model accuracy: {base_accurracy:.3f}, loss: {base_loss:.3f}')\n",
        "print('---------------------------------------------------')\n",
        "print(f'VGG16 model accuracy: {VGG16_accuracy:.3f}, loss: {VGG16_loss:.3f}')\n",
        "print('---------------------------------------------------')\n",
        "print(f'ResNet50 model accuracy: {ResNet_accuracy:.3f}, loss: {ResNet_loss:.3f}')\n",
        "print('---------------------------------------------------')\n",
        "print(f'MobileNet model accuracy: {MobileNet_accuracy:.4f}, loss: {MobileNet_loss:.4f}')\n",
        "print('---------------------------------------------------')\n",
        "print(f'EfficientNetB0 model accuracy: {EfficientNet_accuracy:.4f}, loss: {EfficientNet_loss:.4f}')"
      ],
      "metadata": {
        "id": "rBgs75Baao5n",
        "colab": {
          "base_uri": "https://localhost:8080/"
        },
        "outputId": "e7b55180-6fc9-4c87-e50a-ed46f0b10f90"
      },
      "execution_count": 55,
      "outputs": [
        {
          "output_type": "stream",
          "name": "stdout",
          "text": [
            "Base model accuracy: 0.941, loss: 0.207\n",
            "---------------------------------------------------\n",
            "VGG16 model accuracy: 0.969, loss: 0.134\n",
            "---------------------------------------------------\n",
            "ResNet50 model accuracy: 0.252, loss: 2.096\n",
            "---------------------------------------------------\n",
            "MobileNet model accuracy: 0.9931, loss: 0.0213\n",
            "---------------------------------------------------\n",
            "EfficientNetB0 model accuracy: 0.1632, loss: 2.3053\n"
          ]
        }
      ]
    },
    {
      "cell_type": "code",
      "source": [],
      "metadata": {
        "id": "YdBKY1If9k8t"
      },
      "execution_count": null,
      "outputs": []
    }
  ]
}